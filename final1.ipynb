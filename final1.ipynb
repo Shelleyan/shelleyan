{
    "nbformat_minor": 1, 
    "cells": [
        {
            "source": "# Wenpei Yan Final Project", 
            "cell_type": "markdown", 
            "metadata": {
                "collapsed": true
            }
        }, 
        {
            "source": "## Introduction/Business Problem", 
            "cell_type": "markdown", 
            "metadata": {}
        }, 
        {
            "source": "Personally, I come from China and spent my four years' undergraduate life in Beijing. I came to U.S. for my master degree and now I live in Washington D.C..   \nChina and U.S. are the top two countries which contribute most to GDP. U.S. has GDP of 20,494,050 (USD million) while China has GPD of 13,407,398 (USD million) in 2018.  \nIn 2019, China and U.S. have had many strategies  and taken some measures on trade. Both countries try to impose higher tax rates on certain imported items.   \nPeople from all over the world focus on the next step of two countries including trade, diplomacy, and other aspects.  \nCapitals represent the culture of the countries. So it would be worth discussing the similarities as well as differences between the capitals of China and U.S..  \nTherefore, In this project, I will compare the city of Beijing and Washington D.C., capitals of the major developing and developed countries in the world, in terms of their city neighborhoods and settings. \n", 
            "cell_type": "markdown", 
            "metadata": {}
        }, 
        {
            "source": "## Data Description", 
            "cell_type": "markdown", 
            "metadata": {}
        }, 
        {
            "source": "I will use the data Neighborhood available on Foursquare.  \nNeighborhood has a total of 5 boroughs and 306 neighborhoods. In order to segement the neighborhoods and explore them, I will essentially need a dataset that contains the 5 boroughs and the neighborhoods that exist in each borough as well as the the latitude and logitude coordinates of each neighborhood.  \nI will explore, analyze the cluster the neighborhoods to get a clear image of the two capitals.  \nFor example, I will look into what are the most common institutes, the number of universities, and the density of recreational facilities etc. to determine capital attributes.  \nAfter the analysis, I will be able to tell how similar or different the two capitals are, what may be the inner culture of them,  ", 
            "cell_type": "markdown", 
            "metadata": {}
        }
    ], 
    "metadata": {
        "kernelspec": {
            "display_name": "Python 3.6", 
            "name": "python3", 
            "language": "python"
        }, 
        "language_info": {
            "mimetype": "text/x-python", 
            "nbconvert_exporter": "python", 
            "version": "3.6.8", 
            "name": "python", 
            "file_extension": ".py", 
            "pygments_lexer": "ipython3", 
            "codemirror_mode": {
                "version": 3, 
                "name": "ipython"
            }
        }
    }, 
    "nbformat": 4
}